{
 "cells": [
  {
   "cell_type": "markdown",
   "metadata": {},
   "source": [
    "## Étape 1 - Validation d'une saisie"
   ]
  },
  {
   "cell_type": "code",
   "execution_count": 32,
   "metadata": {},
   "outputs": [
    {
     "name": "stdout",
     "output_type": "stream",
     "text": [
      "Veuillez saisir un entier entre 2 et 15 : \n"
     ]
    },
    {
     "name": "stdout",
     "output_type": "stream",
     "text": [
      "Vous avez saisi l'entier : 5\n"
     ]
    }
   ],
   "source": [
    "import java.util.Scanner;\n",
    "\n",
    "        Scanner clavier = new Scanner(System.in);\n",
    "        int reponse;\n",
    "\n",
    "    \n",
    "        do \n",
    "        {\n",
    "            System.out.println(\"Veuillez saisir un entier entre 2 et 15 : \");\n",
    "            while (!clavier.hasNextInt()) \n",
    "            {\n",
    "                System.out.println(\"Ce n'est pas un entier valide. Essayez encore.\");\n",
    "                clavier.next(); // Pour ne pas afficher l'entier invalide\n",
    "            }\n",
    "            reponse = clavier.nextInt();\n",
    "            if (reponse < 2 || reponse > 15) \n",
    "            {\n",
    "                System.out.println(\"Le nombre doit être entre 2 et 15. Essayez encore.\");\n",
    "            }\n",
    "        } while (reponse < 2 || reponse > 15);\n",
    "        System.out.println(\"Vous avez saisi l'entier : \" + reponse);"
   ]
  },
  {
   "cell_type": "markdown",
   "metadata": {},
   "source": [
    "## Étape 2 - Dessin de ligne(s)"
   ]
  },
  {
   "cell_type": "code",
   "execution_count": 33,
   "metadata": {},
   "outputs": [
    {
     "name": "stdout",
     "output_type": "stream",
     "text": [
      "Voulez-vous un carré plein (1) ou creux (2) ?\n"
     ]
    },
    {
     "name": "stdout",
     "output_type": "stream",
     "text": [
      "* * * * * \n",
      "*       * \n",
      "*       * \n",
      "*       * \n",
      "* * * * * \n"
     ]
    }
   ],
   "source": [
    "   // Demande à l'utilisateur si le carré doit être plein ou creux\n",
    "   System.out.println(\"Voulez-vous un carré plein (1) ou creux (2) ?\");\n",
    "   int choix = clavier.nextInt();\n",
    "   \n",
    "   // Affichage du carré\n",
    "   if (choix == 1) {\n",
    "       // Carré plein\n",
    "       for (int i = 0; i < reponse; i++) {\n",
    "           for (int j = 0; j < reponse; j++) {\n",
    "               System.out.print(\"* \");\n",
    "           }\n",
    "           System.out.println();\n",
    "       } } \n",
    "   else if (choix == 2) {\n",
    "       // Carré creux\n",
    "       for (int i = 0; i < reponse; i++) {\n",
    "           for (int j = 0; j < reponse; j++) {\n",
    "               if (i == 0 || i == reponse - 1 || j == 0 || j == reponse - 1) {\n",
    "                   System.out.print(\"* \");\n",
    "               } else {\n",
    "                   System.out.print(\"  \");\n",
    "               }\n",
    "           }\n",
    "           System.out.println();\n",
    "       } } \n",
    "    else {\n",
    "       System.out.println(\"Choix invalide.\");\n",
    "   }\n",
    "\n",
    "   clavier.close();"
   ]
  },
  {
   "cell_type": "markdown",
   "metadata": {},
   "source": [
    "## Étape 3 - Dessin de triangle(s)"
   ]
  },
  {
   "cell_type": "code",
   "execution_count": 34,
   "metadata": {},
   "outputs": [
    {
     "name": "stdout",
     "output_type": "stream",
     "text": [
      "Voici le triangle isocèle :\n",
      "    * \n",
      "   * * \n",
      "  * * * \n",
      " * * * * \n",
      "* * * * * \n",
      "\n",
      "Voici les triangles tronqués superposés :\n",
      "    * \n",
      "   * * \n",
      "  * * * \n",
      " * * * * \n",
      "* * * * * \n",
      "    * \n",
      "   * * \n",
      "  * * * \n",
      " * * * * \n"
     ]
    }
   ],
   "source": [
    "      // Dessiner un triangle isocèle de base et hauteur égales au nombre saisi\n",
    "      System.out.println(\"Voici le triangle isocèle :\");\n",
    "      for (int i = 1; i <= reponse; i++) {\n",
    "          // Espaces avant les étoiles pour centrer\n",
    "          for (int j = 0; j < reponse - i; j++) {\n",
    "              System.out.print(\" \");\n",
    "          }\n",
    "          // Affichage des étoiles avec des espaces entre elles\n",
    "          for (int j = 0; j < i; j++) {\n",
    "              System.out.print(\"* \");\n",
    "          }\n",
    "          System.out.println();\n",
    "      }\n",
    "\n",
    "      // Si le nombre est supérieur à 3, dessiner des triangles tronqués superposés\n",
    "      if (reponse > 3) {\n",
    "          System.out.println(\"\\nVoici les triangles tronqués superposés :\");\n",
    "          for (int i = 1; i <= reponse; i++) {\n",
    "              // Espaces avant les étoiles pour centrer\n",
    "              for (int j = 0; j < reponse - i; j++) {\n",
    "                  System.out.print(\" \");\n",
    "              }\n",
    "              // Affichage des étoiles avec des espaces entre elles\n",
    "              for (int j = 0; j < i; j++) {\n",
    "                  System.out.print(\"* \");\n",
    "              }\n",
    "              System.out.println();\n",
    "          }\n",
    "\n",
    "          // Afficher des triangles tronqués pour les tailles supérieures à 3\n",
    "          for (int i = 1; i < reponse; i++) {\n",
    "              // Espaces avant les étoiles pour centrer\n",
    "              for (int j = 0; j < reponse - i; j++) {\n",
    "                  System.out.print(\" \");\n",
    "              }\n",
    "              // Affichage des étoiles avec des espaces entre elles\n",
    "              for (int j = 0; j < i; j++) {\n",
    "                  System.out.print(\"* \");\n",
    "              }\n",
    "              System.out.println();\n",
    "          }\n",
    "      }\n",
    "\n",
    "      clavier.close();"
   ]
  }
 ],
 "metadata": {
  "kernelspec": {
   "display_name": "Java (rjk 2.2.0)",
   "language": "java",
   "name": "rapaio-jupyter-kernel"
  },
  "language_info": {
   "codemirror_mode": "java",
   "file_extension": ".jshell",
   "mimetype": "text/x-java-source",
   "name": "java",
   "nbconvert_exporter": "script",
   "pygments_lexer": "java",
   "version": "21.0.5+11-LTS"
  }
 },
 "nbformat": 4,
 "nbformat_minor": 2
}
